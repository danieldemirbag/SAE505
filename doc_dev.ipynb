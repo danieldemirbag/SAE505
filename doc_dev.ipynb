{
 "cells": [
  {
   "cell_type": "markdown",
   "metadata": {},
   "source": [
    "# SAE 5.02 Documentation développeur"
   ]
  },
  {
   "cell_type": "markdown",
   "metadata": {},
   "source": [
    "# Sommaire :\n",
    "\n",
    "### I. INTRODUCTION\n",
    "\n",
    "### II. ARCHITECTURE DU CODE"
   ]
  },
  {
   "cell_type": "markdown",
   "metadata": {},
   "source": [
    "## I. INTRODUCTION"
   ]
  },
  {
   "attachments": {},
   "cell_type": "markdown",
   "metadata": {},
   "source": [
    "Bienvenue dans la documentation technique du logiciel TickTask, une application développée sur Python en utilisant PyQt et MySQL pour offrir une interface utilisateur conviviale à la gestion de ToDoList. Cette documentation vise à expliquer la structure du code, les fonctionnalités clés et les interactions avec la base de données."
   ]
  },
  {
   "cell_type": "markdown",
   "metadata": {},
   "source": [
    "## III. ARCHITECTURE DU CODE"
   ]
  },
  {
   "attachments": {},
   "cell_type": "markdown",
   "metadata": {},
   "source": [
    "Le code de l'application est contenu dans un unique fichier, incluant plusieurs classes et fonctions. \n",
    "Globalement, la majorité des fonctions consistent en une interrogation vers notre base MySQL qui va comparer ses données et celles entrées pour les créer/modifier/supprimer/afficher, un CRUD."
   ]
  },
  {
   "cell_type": "markdown",
   "metadata": {},
   "source": [
    "## Description détaillée des composants principaux :"
   ]
  },
  {
   "attachments": {},
   "cell_type": "markdown",
   "metadata": {},
   "source": [
    "### Class LoginWindow : \n",
    "\n",
    "<img src=\"imgjup/loginwindow.png\">\n",
    "\n",
    "•\tClasse représentant la fenêtre principale de connexion.\n",
    "\n",
    "•\tGère l'authentification des utilisateurs en vérifiant les informations dans la base de données MySQL en faisant les requêtes correspondantes. (Vérification de la présence du combo username/mdp)\n",
    "\n",
    "•\tOffre la possibilité de réinitialiser son mot de passe en envoyant un mail à l’utilisateur grâce à la classe resetMDP(). Puis récupérer les données saisies et les remplacer dans la base de données.\n",
    "\n",
    "•\tPermet la création d’un nouveau compte avec la classe Register() qui va créer une requête vers la base SQL pour y entrer les informations du nouvel utilisateur.\n",
    "\n",
    "•\tRegiser et resetMDP vont ouvrir une nouvelle fenêtre elles aussi. \n",
    "\n",
    "<img src=\"imgjup/registerreset.png\">\n"
   ]
  },
  {
   "cell_type": "markdown",
   "metadata": {},
   "source": [
    "### Class MenuPrincipal :\n",
    "\n",
    "•\tClasse représentant la fenêtre principale après la connexion.\n",
    "\n",
    "•\tAffiche la liste des ToDoList associées à l’utilisateur actuellement connecté en interrogeant la base qui va envoyer toutes les informations liées aux ToDoList dont l’utilisateur fait partie, puis va les afficher itérativement. \n",
    "\n",
    "•\tL’utilisateur peut aussi modifier une ToDoList depuis le menu, ce qui va ouvrir une fenêtre lui permettant de modifier les champs. Cela fonctionne en faisant d’abord une interrogation à notre base sur les données actuelles présents dans la base, puis va les afficher dans la fenêtre. Ensuite l’utilisateur modifie à sa guise, et lorsqu’il confirme les modifications, une nouvelle requête SQL est créée pour envoyer les modifications apportées.\n",
    "\n",
    "<img src=\"imgjup/fenetreupdatetodolist.png\">\n",
    "\n",
    "•\tIntègre la création de nouvelles ToDoList à l'aide de la fonction add_todo_list qui va appeler une nouvelle fenêtre « FenetreAddToDoList » qui va fonctionner avec le même système que l’ajout d’un utilisateur en créant des entrées dans notre base de données.\n",
    "\n",
    "<img src=\"imgjup/fenetreaddtodolist.png\">\n",
    "\n",
    "•\tPermet aussi de supprimer une ToDoList\n",
    "\n",
    "<img src=\"imgjup/deletetodolist.png\">\n",
    "\n",
    "<img src=\"imgjup/cursorexecute.png\">"
   ]
  },
  {
   "attachments": {},
   "cell_type": "markdown",
   "metadata": {},
   "source": [
    "### Class Ui_listtask :\n",
    "\n",
    "<img src=\"imgjup/Uilisttask.png\">\n",
    "\n",
    "•\tClasse générée automatiquement par Qt Designer à partir du fichier .ui correspondant.\n",
    "\n",
    "•\tCette classe gère l’affichage plus détaillées d’une ToDoList sélectionnée. Quand l’utilisateur clique sur le bouton de détail d’une liste, une requête SQL va être envoyé pour demander ce que cette ToDoList contient (Tâches, Utilisateurs, date limite), puis va l’afficher.\n",
    "\n",
    "•\tOn peut choisir de supprimer une tâche, ou de cocher sa complétion. C’est gérer de la même façon que pour la suppression d’une ToDoList. Pour la complétion on utilise une checkbox qui, aux yeux de la base de données sera soit True, soit False. \n",
    "\n",
    "•\tDepuis ce menu, on peut ajouter une tâche, ce qui va nous ouvrir une nouvelle fenêtre d’ajout de tâche : \n",
    "\n",
    "<img src=\"imgjup/Uiaddtask.png\">\n",
    "\n",
    "De la même façon que pour l’ajout d’une ToDoList, on envoie une requête SQL à notre base pour qu’elle crée la tâche associée à la ToDoList avec les informations entrées par l’utilisateur."
   ]
  },
  {
   "cell_type": "markdown",
   "metadata": {},
   "source": [
    "### Autres fonctionnalitées\n",
    "\n",
    "•\tUne actualisation automatique lors d’une modification (suppression/modification/ajout) est effectuée. Pour cela on vient supprimer tous nos widgets sur la page, puis on refait une interrogation à la base de données pour obtenir les dernières données à jour. \n",
    "\n",
    "<img src=\"imgjup/refreshinterface.png\">\n",
    "\n",
    "On retrouve ce procédé au niveau des ToDoList ainsi qu’au niveau des tâches, la fonction n'est pas exactement la même mais effectue le même patterne (supprimer puis redemander tout)\n",
    "\n",
    "•\tConversion d’une ToDoList au format PDF. Grâce au package ‘reportlab’ l’application permet de convertir une ToDoList au format pdf. C’est la fonction ‘bouton_pdf’ qui gère cette conversion en récupérant les infos d’une ToDoList et en effectuant la mise en page.\n",
    "\n",
    "<img src=\"imgjup/boutonpdf.png\">"
   ]
  }
 ],
 "metadata": {
  "kernelspec": {
   "display_name": "Python 3 (ipykernel)",
   "language": "python",
   "name": "python3"
  },
  "language_info": {
   "codemirror_mode": {
    "name": "ipython",
    "version": 3
   },
   "file_extension": ".py",
   "mimetype": "text/x-python",
   "name": "python",
   "nbconvert_exporter": "python",
   "pygments_lexer": "ipython3",
   "version": "3.11.5"
  }
 },
 "nbformat": 4,
 "nbformat_minor": 4
}
